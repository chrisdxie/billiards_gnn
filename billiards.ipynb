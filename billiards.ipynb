{
 "cells": [
  {
   "cell_type": "code",
   "execution_count": null,
   "metadata": {},
   "outputs": [],
   "source": [
    "import sys, os\n",
    "\n",
    "import torch\n",
    "import numpy as np\n",
    "import matplotlib.pyplot as plt\n",
    "\n",
    "from torch_geometric.data import Data\n",
    "\n",
    "# My libraries. Ugly hack to import from sister directory\n",
    "import data_loader\n",
    "import graph_construction as gc\n",
    "import networks\n",
    "import train\n",
    "import losses\n",
    "\n",
    "os.environ['CUDA_VISIBLE_DEVICES'] = \"0\" # TODO: Set this to the GPUs you want to use"
   ]
  },
  {
   "cell_type": "code",
   "execution_count": null,
   "metadata": {},
   "outputs": [],
   "source": [
    "datasets_base_dir = '...' # TODO: Change this to appropriate directory"
   ]
  },
  {
   "cell_type": "markdown",
   "metadata": {},
   "source": [
    "## Play with GraphNets model"
   ]
  },
  {
   "cell_type": "code",
   "execution_count": null,
   "metadata": {},
   "outputs": [],
   "source": [
    "GN_layer1_config = {\n",
    "    \n",
    "    ### Node/edge/global feature dimensions\n",
    "    \n",
    "    # Input\n",
    "    'n_inc' : 4,\n",
    "    'e_inc' : 2,\n",
    "    'u_inc' : 4,\n",
    "    \n",
    "    # Output\n",
    "    'n_outc' : 30,\n",
    "    'e_outc' : 30,\n",
    "    'u_outc' : 30,    \n",
    "    \n",
    "    ### MLP structures\n",
    "    \n",
    "    # Edge model\n",
    "    'edge_model_mlp1_hidden_sizes' : [50, 50],\n",
    "    \n",
    "    # Node model\n",
    "    'node_model_mlp1_hidden_sizes' : [50, 50],\n",
    "    'node_model_mlp2_hidden_sizes' : [50],\n",
    "    \n",
    "    # Global model\n",
    "    'global_model_mlp1_hidden_sizes' : [50],\n",
    "    \n",
    "}\n",
    "\n",
    "GN_layer2_config = {\n",
    "    \n",
    "    ### Node/edge/global feature dimensions\n",
    "    \n",
    "    # Input\n",
    "    'n_inc' : 30,\n",
    "    'e_inc' : 30,\n",
    "    'u_inc' : 30,\n",
    "    \n",
    "    # Output\n",
    "    'n_outc' : 4,\n",
    "    'e_outc' : 2,\n",
    "    'u_outc' : 4,    \n",
    "    \n",
    "    ### MLP structures\n",
    "    \n",
    "    # Edge model\n",
    "    'edge_model_mlp1_hidden_sizes' : [50, 50],\n",
    "    \n",
    "    # Node model\n",
    "    'node_model_mlp1_hidden_sizes' : [50, 50],\n",
    "    'node_model_mlp2_hidden_sizes' : [50],\n",
    "    \n",
    "    # Global model\n",
    "    'global_model_mlp1_hidden_sizes' : [50],\n",
    "    \n",
    "}\n",
    "\n",
    "gn_config = {\n",
    "    'layer_config' : [GN_layer1_config, GN_layer2_config],\n",
    "}"
   ]
  },
  {
   "cell_type": "code",
   "execution_count": null,
   "metadata": {},
   "outputs": [],
   "source": [
    "tb_dir = '...' # TODO: Set this to appropriate directory\n",
    "training_config = {\n",
    "    \n",
    "    # Training params\n",
    "    'lr' : 1e-4, # learning rate\n",
    "    'iter_collect' : 20, # Collect results every _ iterations\n",
    "    'max_iters' : 150000,\n",
    "    \n",
    "    # Loss function stuff\n",
    "\n",
    "    # Tensorboard stuff\n",
    "    'tb_directory' : tb_dir + 'test' + '/', # TODO: Set this to appropriate directory\n",
    "    'flush_secs' : 10, # Write tensorboard results every _ seconds\n",
    "}\n",
    "\n",
    "training_config.update({\n",
    "    # Starting optimization from previous checkpoint\n",
    "    'load' : True,\n",
    "    'opt_filename' : os.path.join(training_config['tb_directory'],\n",
    "                                  'Trainer_GraphNetWrapper_iter109251_checkpoint.pth'),\n",
    "    'model_filename' : os.path.join(training_config['tb_directory'],\n",
    "                                    'GraphNetWrapper_iter109251_checkpoint.pth'),\n",
    "})"
   ]
  },
  {
   "cell_type": "markdown",
   "metadata": {},
   "source": [
    "## Train GraphNets Model"
   ]
  },
  {
   "cell_type": "code",
   "execution_count": null,
   "metadata": {},
   "outputs": [],
   "source": [
    "gn_wrapper = networks.GraphNetWrapper(gn_config)\n",
    "trainer = train.Trainer(gn_wrapper, training_config)"
   ]
  },
  {
   "cell_type": "code",
   "execution_count": null,
   "metadata": {},
   "outputs": [],
   "source": [
    "dl_config = {\n",
    "    'train_datafile' : os.path.join(datasets_base_dir, 'billiards_balls_training_data.mat'),\n",
    "    'test_datafile' : os.path.join(datasets_base_dir, 'billiards_balls_testing_data.mat'),\n",
    "    'rollout_num' : 5,\n",
    "}\n",
    "train_dl = data_loader.get_BD_dataloader(dl_config, test=False, batch_size=100, num_workers=4, shuffle=True)"
   ]
  },
  {
   "cell_type": "code",
   "execution_count": null,
   "metadata": {},
   "outputs": [],
   "source": [
    "trainer.train(5, train_dl)\n",
    "trainer.save()"
   ]
  },
  {
   "cell_type": "markdown",
   "metadata": {},
   "source": [
    "## Compare GT sequence with Model rollout"
   ]
  },
  {
   "cell_type": "code",
   "execution_count": null,
   "metadata": {},
   "outputs": [],
   "source": [
    "dl_config = {\n",
    "    'train_datafile' : os.path.join(datasets_base_dir, 'billiards_balls_training_data.mat'),\n",
    "    'test_datafile' : os.path.join(datasets_base_dir, 'billiards_balls_testing_data.mat'),\n",
    "    'rollout_num' : 1,\n",
    "}\n",
    "test_dl = data_loader.get_BD_dataloader(dl_config, test=True, batch_size=64, num_workers=4, shuffle=False)"
   ]
  },
  {
   "cell_type": "code",
   "execution_count": null,
   "metadata": {},
   "outputs": [],
   "source": [
    "trainer.test(test_dl)"
   ]
  },
  {
   "cell_type": "code",
   "execution_count": null,
   "metadata": {},
   "outputs": [],
   "source": [
    "import visualize_billiards as vb\n",
    "\n",
    "seq_num = 165\n",
    "seq = test_dl.dataset.get_seq(seq_num)\n",
    "\n",
    "s0 = seq[0]\n",
    "pred_seq = gn_wrapper.rollout(s0, 100)"
   ]
  },
  {
   "cell_type": "code",
   "execution_count": null,
   "metadata": {},
   "outputs": [],
   "source": [
    "j = 99\n",
    "\n",
    "fig = plt.figure(1, figsize=(6,3))\n",
    "\n",
    "plt.subplot(1,2,1)\n",
    "plt.imshow(vb.plot_positions(seq[j:j+1]))\n",
    "\n",
    "plt.subplot(1,2,2)\n",
    "plt.imshow(vb.plot_positions(pred_seq[j:j+1]))\n",
    "\n",
    "print(\"GT:\")\n",
    "print(seq[j])\n",
    "print(\"Predicted:\")\n",
    "print(pred_seq[j])\n",
    "\n",
    "# Order of plotting: rgb"
   ]
  },
  {
   "cell_type": "markdown",
   "metadata": {},
   "source": [
    "Animate the real and rollout"
   ]
  },
  {
   "cell_type": "code",
   "execution_count": null,
   "metadata": {},
   "outputs": [],
   "source": [
    "img_folder = training_config['tb_directory']\n",
    "vb.animate(seq, img_folder, 'real')\n",
    "vb.animate(pred_seq, img_folder, 'rollout')"
   ]
  },
  {
   "cell_type": "code",
   "execution_count": null,
   "metadata": {},
   "outputs": [],
   "source": []
  }
 ],
 "metadata": {
  "kernelspec": {
   "display_name": "Python [conda env:ssc]",
   "language": "python",
   "name": "conda-env-ssc-py"
  },
  "language_info": {
   "codemirror_mode": {
    "name": "ipython",
    "version": 3
   },
   "file_extension": ".py",
   "mimetype": "text/x-python",
   "name": "python",
   "nbconvert_exporter": "python",
   "pygments_lexer": "ipython3",
   "version": "3.7.3"
  }
 },
 "nbformat": 4,
 "nbformat_minor": 2
}
